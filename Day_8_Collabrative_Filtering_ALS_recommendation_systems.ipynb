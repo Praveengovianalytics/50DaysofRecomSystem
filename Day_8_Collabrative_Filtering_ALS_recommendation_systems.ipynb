{
  "nbformat": 4,
  "nbformat_minor": 0,
  "metadata": {
    "colab": {
      "name": "Day-8-Collabrative-Filtering-ALS-recommendation-systems.ipynb",
      "provenance": [],
      "collapsed_sections": [],
      "authorship_tag": "ABX9TyOaHJOFxwqi9tFOYJo7YepL",
      "include_colab_link": true
    },
    "kernelspec": {
      "name": "python3",
      "display_name": "Python 3"
    },
    "accelerator": "GPU",
    "widgets": {
      "application/vnd.jupyter.widget-state+json": {
        "76bf0ae320654e659b435571c1e75f0d": {
          "model_module": "@jupyter-widgets/controls",
          "model_name": "HBoxModel",
          "state": {
            "_view_name": "HBoxView",
            "_dom_classes": [],
            "_model_name": "HBoxModel",
            "_view_module": "@jupyter-widgets/controls",
            "_model_module_version": "1.5.0",
            "_view_count": null,
            "_view_module_version": "1.5.0",
            "box_style": "",
            "layout": "IPY_MODEL_122725fbe51c425f9a5b1067cba241b5",
            "_model_module": "@jupyter-widgets/controls",
            "children": [
              "IPY_MODEL_ea5bf2b52c59408a8b78e440fba92667",
              "IPY_MODEL_d9401e8d93ee49d9b3a2db259834b569"
            ]
          }
        },
        "122725fbe51c425f9a5b1067cba241b5": {
          "model_module": "@jupyter-widgets/base",
          "model_name": "LayoutModel",
          "state": {
            "_view_name": "LayoutView",
            "grid_template_rows": null,
            "right": null,
            "justify_content": null,
            "_view_module": "@jupyter-widgets/base",
            "overflow": null,
            "_model_module_version": "1.2.0",
            "_view_count": null,
            "flex_flow": null,
            "width": null,
            "min_width": null,
            "border": null,
            "align_items": null,
            "bottom": null,
            "_model_module": "@jupyter-widgets/base",
            "top": null,
            "grid_column": null,
            "overflow_y": null,
            "overflow_x": null,
            "grid_auto_flow": null,
            "grid_area": null,
            "grid_template_columns": null,
            "flex": null,
            "_model_name": "LayoutModel",
            "justify_items": null,
            "grid_row": null,
            "max_height": null,
            "align_content": null,
            "visibility": null,
            "align_self": null,
            "height": null,
            "min_height": null,
            "padding": null,
            "grid_auto_rows": null,
            "grid_gap": null,
            "max_width": null,
            "order": null,
            "_view_module_version": "1.2.0",
            "grid_template_areas": null,
            "object_position": null,
            "object_fit": null,
            "grid_auto_columns": null,
            "margin": null,
            "display": null,
            "left": null
          }
        },
        "ea5bf2b52c59408a8b78e440fba92667": {
          "model_module": "@jupyter-widgets/controls",
          "model_name": "FloatProgressModel",
          "state": {
            "_view_name": "ProgressView",
            "style": "IPY_MODEL_de96e5502db84babb86428c771d899ab",
            "_dom_classes": [],
            "description": "100%",
            "_model_name": "FloatProgressModel",
            "bar_style": "success",
            "max": 20,
            "_view_module": "@jupyter-widgets/controls",
            "_model_module_version": "1.5.0",
            "value": 20,
            "_view_count": null,
            "_view_module_version": "1.5.0",
            "orientation": "horizontal",
            "min": 0,
            "description_tooltip": null,
            "_model_module": "@jupyter-widgets/controls",
            "layout": "IPY_MODEL_c3f58c4cbeae42da9f8b19bb4430008b"
          }
        },
        "d9401e8d93ee49d9b3a2db259834b569": {
          "model_module": "@jupyter-widgets/controls",
          "model_name": "HTMLModel",
          "state": {
            "_view_name": "HTMLView",
            "style": "IPY_MODEL_1f1d988463c9458f94c66a05aee3d459",
            "_dom_classes": [],
            "description": "",
            "_model_name": "HTMLModel",
            "placeholder": "​",
            "_view_module": "@jupyter-widgets/controls",
            "_model_module_version": "1.5.0",
            "value": " 20/20 [06:58&lt;00:00, 20.91s/it]",
            "_view_count": null,
            "_view_module_version": "1.5.0",
            "description_tooltip": null,
            "_model_module": "@jupyter-widgets/controls",
            "layout": "IPY_MODEL_1b4276f31e6643e4bdbe603f9bb3834f"
          }
        },
        "de96e5502db84babb86428c771d899ab": {
          "model_module": "@jupyter-widgets/controls",
          "model_name": "ProgressStyleModel",
          "state": {
            "_view_name": "StyleView",
            "_model_name": "ProgressStyleModel",
            "description_width": "initial",
            "_view_module": "@jupyter-widgets/base",
            "_model_module_version": "1.5.0",
            "_view_count": null,
            "_view_module_version": "1.2.0",
            "bar_color": null,
            "_model_module": "@jupyter-widgets/controls"
          }
        },
        "c3f58c4cbeae42da9f8b19bb4430008b": {
          "model_module": "@jupyter-widgets/base",
          "model_name": "LayoutModel",
          "state": {
            "_view_name": "LayoutView",
            "grid_template_rows": null,
            "right": null,
            "justify_content": null,
            "_view_module": "@jupyter-widgets/base",
            "overflow": null,
            "_model_module_version": "1.2.0",
            "_view_count": null,
            "flex_flow": null,
            "width": null,
            "min_width": null,
            "border": null,
            "align_items": null,
            "bottom": null,
            "_model_module": "@jupyter-widgets/base",
            "top": null,
            "grid_column": null,
            "overflow_y": null,
            "overflow_x": null,
            "grid_auto_flow": null,
            "grid_area": null,
            "grid_template_columns": null,
            "flex": null,
            "_model_name": "LayoutModel",
            "justify_items": null,
            "grid_row": null,
            "max_height": null,
            "align_content": null,
            "visibility": null,
            "align_self": null,
            "height": null,
            "min_height": null,
            "padding": null,
            "grid_auto_rows": null,
            "grid_gap": null,
            "max_width": null,
            "order": null,
            "_view_module_version": "1.2.0",
            "grid_template_areas": null,
            "object_position": null,
            "object_fit": null,
            "grid_auto_columns": null,
            "margin": null,
            "display": null,
            "left": null
          }
        },
        "1f1d988463c9458f94c66a05aee3d459": {
          "model_module": "@jupyter-widgets/controls",
          "model_name": "DescriptionStyleModel",
          "state": {
            "_view_name": "StyleView",
            "_model_name": "DescriptionStyleModel",
            "description_width": "",
            "_view_module": "@jupyter-widgets/base",
            "_model_module_version": "1.5.0",
            "_view_count": null,
            "_view_module_version": "1.2.0",
            "_model_module": "@jupyter-widgets/controls"
          }
        },
        "1b4276f31e6643e4bdbe603f9bb3834f": {
          "model_module": "@jupyter-widgets/base",
          "model_name": "LayoutModel",
          "state": {
            "_view_name": "LayoutView",
            "grid_template_rows": null,
            "right": null,
            "justify_content": null,
            "_view_module": "@jupyter-widgets/base",
            "overflow": null,
            "_model_module_version": "1.2.0",
            "_view_count": null,
            "flex_flow": null,
            "width": null,
            "min_width": null,
            "border": null,
            "align_items": null,
            "bottom": null,
            "_model_module": "@jupyter-widgets/base",
            "top": null,
            "grid_column": null,
            "overflow_y": null,
            "overflow_x": null,
            "grid_auto_flow": null,
            "grid_area": null,
            "grid_template_columns": null,
            "flex": null,
            "_model_name": "LayoutModel",
            "justify_items": null,
            "grid_row": null,
            "max_height": null,
            "align_content": null,
            "visibility": null,
            "align_self": null,
            "height": null,
            "min_height": null,
            "padding": null,
            "grid_auto_rows": null,
            "grid_gap": null,
            "max_width": null,
            "order": null,
            "_view_module_version": "1.2.0",
            "grid_template_areas": null,
            "object_position": null,
            "object_fit": null,
            "grid_auto_columns": null,
            "margin": null,
            "display": null,
            "left": null
          }
        }
      }
    }
  },
  "cells": [
    {
      "cell_type": "markdown",
      "metadata": {
        "id": "view-in-github",
        "colab_type": "text"
      },
      "source": [
        "<a href=\"https://colab.research.google.com/github/Praveengovianalytics/50DaysofRecomSystem/blob/main/Day_8_Collabrative_Filtering_ALS_recommendation_systems.ipynb\" target=\"_parent\"><img src=\"https://colab.research.google.com/assets/colab-badge.svg\" alt=\"Open In Colab\"/></a>"
      ]
    },
    {
      "cell_type": "markdown",
      "metadata": {
        "id": "v3TNFZeWixVx"
      },
      "source": [
        "#50DaysofRecommendationSystems - Day 8"
      ]
    },
    {
      "cell_type": "markdown",
      "metadata": {
        "id": "3y_oTy3ujH2G"
      },
      "source": [
        ""
      ]
    },
    {
      "cell_type": "markdown",
      "metadata": {
        "id": "LQ3OGpRojMMF"
      },
      "source": [
        "<a id='CBRS'></a>\n",
        "# Collabrative filtering Recommender System - ALS\n",
        "\n",
        "\n",
        "Let us understand this with an example. If person A likes 3 movies, say Interstellar, Inception and Predestination, and person B likes Inception, Predestination and The Prestige, then they have almost similar interests. We can say with some certainty that A should like The Prestige and B should like Interstellar. The collaborative filtering algorithm uses “User Behavior” for recommending items. This is one of the most commonly used algorithms in the industry as it is not dependent on any additional information. There are different types of collaborating filtering techniques and we shall look at them in detail below. \n",
        "\n",
        "\n",
        "### User-User collaborative filtering\n",
        "\n",
        "This algorithm first finds the similarity score between users. Based on this similarity score, it then picks out the most similar users and recommends products which these similar users have liked or bought previously.\n",
        "\n",
        "\n",
        "In terms of our movies example from earlier, this algorithm finds the similarity between each user based on the ratings they have previously given to different movies. The prediction of an item for a user u is calculated by computing the weighted sum of the user ratings given by other users to an item i.\n",
        "\n",
        "\n",
        "### Item-Item collaborative filtering\n",
        "\n",
        "In this algorithm, we compute the similarity between each pair of items.\n",
        "\n",
        "So in our case we will find the similarity between each movie pair and based on that, we will recommend similar movies which are liked by the users in the past. This algorithm works similar to user-user collaborative filtering with just a little change – instead of taking the weighted sum of ratings of “user-neighbors”, we take the weighted sum of ratings of “item-neighbors”. "
      ]
    },
    {
      "cell_type": "markdown",
      "metadata": {
        "id": "g82y4Wx8iwbe"
      },
      "source": [
        "![Collab_filtering_ALS.png](data:image/png;base64,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)"
      ]
    },
    {
      "cell_type": "markdown",
      "metadata": {
        "id": "JC6KTfo_j37Z"
      },
      "source": [
        "ALS (Alternating Least Squares) is an implicit recommendation algorithm to make a recommendation of products and product categories to the users. ALS is an iterative optimization process where for every iteration it tries to arrive closer and closer to a factorized representation of the original data.\n",
        "\n",
        "\n",
        "By randomly assigning the values in User matrix(U) which is a (n x p) matrix and Item matrix(V) which is a (p x m) matrix, and then by using least-squares iteratively we can arrive with the weights that yield the best approximation of R which will be a (n x m) matrix. The least-squares approach in its basic forms means fitting some line to the data, measuring the sum of squared distances from all points to the line and trying to get an optimal fit by minimizing this value.\n",
        "With the alternating least squares approach, we use a similar technique but iteratively alternate between optimizing U(User matrix) and fixing V(Item matrix) and vice versa. We do this for each iteration to arrive closer to R = U x V, Where R is Rating Matrix, U is User Matrix and V is Item Matrix. In our use case, an item is a product category(MCATs). "
      ]
    },
    {
      "cell_type": "markdown",
      "metadata": {
        "id": "JAv14jUWkCUd"
      },
      "source": [
        "The computational bottleneck in this method is calculating User matrix(U) and item matrix(V). Firstly we used a simple mathematical approach which takes a long time but later on, we have used an implicit technique in cython to handle the computational issues. In ALS we iteratively compute user vectors (U_i) and item vectors (Y_i) using the below formula:\n",
        "\n",
        "\n",
        "*   X_u = ((Y.T*Y + Y.T*(Cu — I) * Y) + λ*I)^-1 * (X.T * Cu * p(u))\n",
        "*   Y_m = ((X.T*X + X.T*(Cm — I) * X) + λ*I)^-1 * (Y.T * Cm * p(m))\n",
        "\n"
      ]
    },
    {
      "cell_type": "markdown",
      "metadata": {
        "id": "q5xhaYbQkStr"
      },
      "source": [
        "Where:\n",
        "X and Y: X is the user matrics and Y is the item matrix. In ALS these matrices will be updated alternatingly.\n",
        "\n",
        "Cu and Cm: Confidence values for users and mcats.\n",
        "\n",
        "Lambda(λ): Regularizer value. Generally used to reduce overfitting in a machine learning model(we’re using 0.1).\n",
        "\n",
        "p(u) and p(m): The preference for an item(binary). If known then preference is 1 and zero if not known.\n",
        "\n",
        "I (Identity /np.eye): The identity matrix. Square matrix with ones at the diagonal elements and zeros everywhere else"
      ]
    },
    {
      "cell_type": "code",
      "metadata": {
        "colab": {
          "base_uri": "https://localhost:8080/"
        },
        "id": "NB7LpJ1RvdaU",
        "outputId": "34fab127-56b7-4d72-c92a-0c05864cc380"
      },
      "source": [
        "!pip install implicit"
      ],
      "execution_count": null,
      "outputs": [
        {
          "output_type": "stream",
          "text": [
            "Collecting implicit\n",
            "\u001b[?25l  Downloading https://files.pythonhosted.org/packages/bc/07/c0121884722d16e2c5beeb815f6b84b41cbf22e738e4075f1475be2791bc/implicit-0.4.4.tar.gz (1.1MB)\n",
            "\u001b[K     |████████████████████████████████| 1.1MB 13.7MB/s \n",
            "\u001b[?25hRequirement already satisfied: numpy in /usr/local/lib/python3.6/dist-packages (from implicit) (1.18.5)\n",
            "Requirement already satisfied: scipy>=0.16 in /usr/local/lib/python3.6/dist-packages (from implicit) (1.4.1)\n",
            "Requirement already satisfied: tqdm>=4.27 in /usr/local/lib/python3.6/dist-packages (from implicit) (4.41.1)\n",
            "Building wheels for collected packages: implicit\n",
            "  Building wheel for implicit (setup.py) ... \u001b[?25l\u001b[?25hdone\n",
            "  Created wheel for implicit: filename=implicit-0.4.4-cp36-cp36m-linux_x86_64.whl size=3419528 sha256=d4076a81669d8d552bb43dc51e446b40f5f8f95951584fae77f9573d016a3af7\n",
            "  Stored in directory: /root/.cache/pip/wheels/bf/d4/ec/fd4f622fcbefb7521f149905295b2c26adecb23af38aa28217\n",
            "Successfully built implicit\n",
            "Installing collected packages: implicit\n",
            "Successfully installed implicit-0.4.4\n"
          ],
          "name": "stdout"
        }
      ]
    },
    {
      "cell_type": "code",
      "metadata": {
        "id": "lEc_rrqbrVgN"
      },
      "source": [
        "import pandas as pd\n",
        "import numpy as np\n",
        "\n",
        "import random \n",
        "import pickle \n",
        "import scipy.sparse as sparse\n",
        "from scipy.sparse.linalg import spsolve\n",
        "\n",
        "from sklearn.metrics.pairwise import cosine_distances , cosine_similarity\n",
        "\n",
        "\n",
        "import re\n",
        "import os\n",
        "from sklearn.preprocessing import MinMaxScaler\n",
        "import implicit\n"
      ],
      "execution_count": null,
      "outputs": []
    },
    {
      "cell_type": "code",
      "metadata": {
        "colab": {
          "base_uri": "https://localhost:8080/"
        },
        "id": "aPV2XP19r816",
        "outputId": "2e6a7dc0-97a8-4ede-9e8f-5e7cacf636bd"
      },
      "source": [
        "from google.colab import drive\n",
        "drive.mount('/content/gdrive')"
      ],
      "execution_count": null,
      "outputs": [
        {
          "output_type": "stream",
          "text": [
            "Mounted at /content/gdrive\n"
          ],
          "name": "stdout"
        }
      ]
    },
    {
      "cell_type": "code",
      "metadata": {
        "colab": {
          "base_uri": "https://localhost:8080/"
        },
        "id": "yY6STeyUr84v",
        "outputId": "80bbccd5-07ea-435a-dd14-1ed0b9a5ebdb"
      },
      "source": [
        "!head '/content/gdrive/My Drive/Colab Notebooks/50_Days_of_Recommendation_Systems/Datasets/ratings_Beauty.csv'"
      ],
      "execution_count": null,
      "outputs": [
        {
          "output_type": "stream",
          "text": [
            "UserId,ProductId,Rating,Timestamp\n",
            "A39HTATAQ9V7YF,0205616461,5.0,1369699200\n",
            "A3JM6GV9MNOF9X,0558925278,3.0,1355443200\n",
            "A1Z513UWSAAO0F,0558925278,5.0,1404691200\n",
            "A1WMRR494NWEWV,0733001998,4.0,1382572800\n",
            "A3IAAVS479H7M7,0737104473,1.0,1274227200\n",
            "AKJHHD5VEH7VG,0762451459,5.0,1404518400\n",
            "A1BG8QW55XHN6U,1304139212,5.0,1371945600\n",
            "A22VW0P4VZHDE3,1304139220,5.0,1373068800\n",
            "A3V3RE4132GKRO,130414089X,5.0,1401840000\n"
          ],
          "name": "stdout"
        }
      ]
    },
    {
      "cell_type": "code",
      "metadata": {
        "id": "28tncWQNr87v"
      },
      "source": [
        "df = pd.read_csv('/content/gdrive/My Drive/Colab Notebooks/50_Days_of_Recommendation_Systems/Datasets/ratings_Beauty.csv')"
      ],
      "execution_count": null,
      "outputs": []
    },
    {
      "cell_type": "code",
      "metadata": {
        "colab": {
          "base_uri": "https://localhost:8080/",
          "height": 204
        },
        "id": "2iWlwzMyr8-q",
        "outputId": "0769986d-1160-4c61-ac4a-c24d09569be1"
      },
      "source": [
        "df.head()"
      ],
      "execution_count": null,
      "outputs": [
        {
          "output_type": "execute_result",
          "data": {
            "text/html": [
              "<div>\n",
              "<style scoped>\n",
              "    .dataframe tbody tr th:only-of-type {\n",
              "        vertical-align: middle;\n",
              "    }\n",
              "\n",
              "    .dataframe tbody tr th {\n",
              "        vertical-align: top;\n",
              "    }\n",
              "\n",
              "    .dataframe thead th {\n",
              "        text-align: right;\n",
              "    }\n",
              "</style>\n",
              "<table border=\"1\" class=\"dataframe\">\n",
              "  <thead>\n",
              "    <tr style=\"text-align: right;\">\n",
              "      <th></th>\n",
              "      <th>UserId</th>\n",
              "      <th>ProductId</th>\n",
              "      <th>Rating</th>\n",
              "      <th>Timestamp</th>\n",
              "    </tr>\n",
              "  </thead>\n",
              "  <tbody>\n",
              "    <tr>\n",
              "      <th>0</th>\n",
              "      <td>A39HTATAQ9V7YF</td>\n",
              "      <td>0205616461</td>\n",
              "      <td>5.0</td>\n",
              "      <td>1369699200</td>\n",
              "    </tr>\n",
              "    <tr>\n",
              "      <th>1</th>\n",
              "      <td>A3JM6GV9MNOF9X</td>\n",
              "      <td>0558925278</td>\n",
              "      <td>3.0</td>\n",
              "      <td>1355443200</td>\n",
              "    </tr>\n",
              "    <tr>\n",
              "      <th>2</th>\n",
              "      <td>A1Z513UWSAAO0F</td>\n",
              "      <td>0558925278</td>\n",
              "      <td>5.0</td>\n",
              "      <td>1404691200</td>\n",
              "    </tr>\n",
              "    <tr>\n",
              "      <th>3</th>\n",
              "      <td>A1WMRR494NWEWV</td>\n",
              "      <td>0733001998</td>\n",
              "      <td>4.0</td>\n",
              "      <td>1382572800</td>\n",
              "    </tr>\n",
              "    <tr>\n",
              "      <th>4</th>\n",
              "      <td>A3IAAVS479H7M7</td>\n",
              "      <td>0737104473</td>\n",
              "      <td>1.0</td>\n",
              "      <td>1274227200</td>\n",
              "    </tr>\n",
              "  </tbody>\n",
              "</table>\n",
              "</div>"
            ],
            "text/plain": [
              "           UserId   ProductId  Rating   Timestamp\n",
              "0  A39HTATAQ9V7YF  0205616461     5.0  1369699200\n",
              "1  A3JM6GV9MNOF9X  0558925278     3.0  1355443200\n",
              "2  A1Z513UWSAAO0F  0558925278     5.0  1404691200\n",
              "3  A1WMRR494NWEWV  0733001998     4.0  1382572800\n",
              "4  A3IAAVS479H7M7  0737104473     1.0  1274227200"
            ]
          },
          "metadata": {
            "tags": []
          },
          "execution_count": 10
        }
      ]
    },
    {
      "cell_type": "code",
      "metadata": {
        "id": "ksh3Xi1Vr9B2"
      },
      "source": [
        "df.rename(columns={'UserId':'user','ProductId':'mcat'},inplace=True)"
      ],
      "execution_count": null,
      "outputs": []
    },
    {
      "cell_type": "code",
      "metadata": {
        "id": "-tGZuJsDu1av"
      },
      "source": [
        "\n",
        "# Drop NaN columns\n",
        "data = df.dropna()\n",
        "data = data.copy()"
      ],
      "execution_count": null,
      "outputs": []
    },
    {
      "cell_type": "markdown",
      "metadata": {
        "id": "ETNO45u7vLvz"
      },
      "source": [
        "# Create a numeric user_id and mcat_id column"
      ]
    },
    {
      "cell_type": "code",
      "metadata": {
        "id": "lMl5RHJ7u1hx"
      },
      "source": [
        "data['user'] = data['user'].astype(\"category\")\n",
        "data['mcat'] = data['mcat'].astype(\"category\")\n",
        "data['user_id'] = data['user'].cat.codes\n",
        "data['mcat_id'] = data['mcat'].cat.codes"
      ],
      "execution_count": null,
      "outputs": []
    },
    {
      "cell_type": "markdown",
      "metadata": {
        "id": "8jmiv2mBvW7j"
      },
      "source": [
        "# The implicit library expects data as a item-user matrix so we need to create two matricies, one for fitting the model (item-user) \n",
        "# and another for recommendations (user-item)"
      ]
    },
    {
      "cell_type": "code",
      "metadata": {
        "id": "9QnOonvru1pJ"
      },
      "source": [
        "sparse_item_user = sparse.csr_matrix((data['Rating'].astype(float), (data['mcat_id'], data['user_id'])))\n",
        "sparse_user_item = sparse.csr_matrix((data['Rating'].astype(float), (data['user_id'], data['mcat_id'])))"
      ],
      "execution_count": null,
      "outputs": []
    },
    {
      "cell_type": "code",
      "metadata": {
        "id": "n2D8an99v9Mm"
      },
      "source": [
        ""
      ],
      "execution_count": null,
      "outputs": []
    },
    {
      "cell_type": "markdown",
      "metadata": {
        "id": "x-uoDfN3wFjR"
      },
      "source": [
        "# Modeling"
      ]
    },
    {
      "cell_type": "code",
      "metadata": {
        "colab": {
          "base_uri": "https://localhost:8080/"
        },
        "id": "5vkWaYAnu1sy",
        "outputId": "9b99828e-6d0e-4e8f-a5a7-85b4c1d62623"
      },
      "source": [
        "# Initializing the als algoritm and train the model using item-user matrix\n",
        "model = implicit.als.AlternatingLeastSquares(factors=20, regularization=0.1, iterations=20)\n",
        "\n",
        "# Lambda(λ): Regularizer value. Generally used to reduce overfitting in a machine learning model(we’re using 0.1)."
      ],
      "execution_count": null,
      "outputs": [
        {
          "output_type": "stream",
          "text": [
            "GPU training requires factor size to be a multiple of 32. Increasing factors from 20 to 32.\n",
            "WARNING:root:OpenBLAS detected. Its highly recommend to set the environment variable 'export OPENBLAS_NUM_THREADS=1' to disable its internal multithreading\n"
          ],
          "name": "stderr"
        }
      ]
    },
    {
      "cell_type": "code",
      "metadata": {
        "id": "v66wBFT0wPfE"
      },
      "source": [
        "!export OPENBLAS_NUM_THREADS=1"
      ],
      "execution_count": null,
      "outputs": []
    },
    {
      "cell_type": "markdown",
      "metadata": {
        "id": "hNwRjzLgwwde"
      },
      "source": [
        "# Calculating the confidence by multiplying sparse matrix with the alpha value."
      ]
    },
    {
      "cell_type": "code",
      "metadata": {
        "id": "R0ASnXWkwpEf"
      },
      "source": [
        "alpha_val = 15\n",
        "data_conf = (sparse_item_user * alpha_val).astype('double')"
      ],
      "execution_count": null,
      "outputs": []
    },
    {
      "cell_type": "markdown",
      "metadata": {
        "id": "0iow6faQxLY2"
      },
      "source": [
        "# Model Training "
      ]
    },
    {
      "cell_type": "code",
      "metadata": {
        "colab": {
          "base_uri": "https://localhost:8080/",
          "height": 66,
          "referenced_widgets": [
            "76bf0ae320654e659b435571c1e75f0d",
            "122725fbe51c425f9a5b1067cba241b5",
            "ea5bf2b52c59408a8b78e440fba92667",
            "d9401e8d93ee49d9b3a2db259834b569",
            "de96e5502db84babb86428c771d899ab",
            "c3f58c4cbeae42da9f8b19bb4430008b",
            "1f1d988463c9458f94c66a05aee3d459",
            "1b4276f31e6643e4bdbe603f9bb3834f"
          ]
        },
        "id": "lFrdl1RLwpI_",
        "outputId": "b74d2203-237e-43f6-db9b-8a169b339b39"
      },
      "source": [
        "\n",
        "model.fit(data_conf)"
      ],
      "execution_count": null,
      "outputs": [
        {
          "output_type": "display_data",
          "data": {
            "application/vnd.jupyter.widget-view+json": {
              "model_id": "76bf0ae320654e659b435571c1e75f0d",
              "version_minor": 0,
              "version_major": 2
            },
            "text/plain": [
              "HBox(children=(FloatProgress(value=0.0, max=20.0), HTML(value='')))"
            ]
          },
          "metadata": {
            "tags": []
          }
        },
        {
          "output_type": "stream",
          "text": [
            "\n"
          ],
          "name": "stdout"
        }
      ]
    },
    {
      "cell_type": "code",
      "metadata": {
        "colab": {
          "base_uri": "https://localhost:8080/",
          "height": 49
        },
        "id": "FfJSQyhowpNs",
        "outputId": "a9a413f2-a8e4-4d6d-b7e2-d097957746cb"
      },
      "source": [
        "Ids = list(data.user_id.unique())\n",
        "R1 = pd.DataFrame(columns=['mcat_id','rating','user_id'])"
      ],
      "execution_count": null,
      "outputs": [
        {
          "output_type": "execute_result",
          "data": {
            "text/html": [
              "<div>\n",
              "<style scoped>\n",
              "    .dataframe tbody tr th:only-of-type {\n",
              "        vertical-align: middle;\n",
              "    }\n",
              "\n",
              "    .dataframe tbody tr th {\n",
              "        vertical-align: top;\n",
              "    }\n",
              "\n",
              "    .dataframe thead th {\n",
              "        text-align: right;\n",
              "    }\n",
              "</style>\n",
              "<table border=\"1\" class=\"dataframe\">\n",
              "  <thead>\n",
              "    <tr style=\"text-align: right;\">\n",
              "      <th></th>\n",
              "      <th>mcat_id</th>\n",
              "      <th>rating</th>\n",
              "      <th>user_id</th>\n",
              "    </tr>\n",
              "  </thead>\n",
              "  <tbody>\n",
              "  </tbody>\n",
              "</table>\n",
              "</div>"
            ],
            "text/plain": [
              "Empty DataFrame\n",
              "Columns: [mcat_id, rating, user_id]\n",
              "Index: []"
            ]
          },
          "metadata": {
            "tags": []
          },
          "execution_count": 19
        }
      ]
    },
    {
      "cell_type": "code",
      "metadata": {
        "id": "GpxhJccR2POO"
      },
      "source": [
        "Ids1 = Ids[1:100]"
      ],
      "execution_count": null,
      "outputs": []
    },
    {
      "cell_type": "code",
      "metadata": {
        "colab": {
          "base_uri": "https://localhost:8080/"
        },
        "id": "xpIe9hea2e-m",
        "outputId": "143c1829-f2b8-43bb-aba1-64d0902834f3"
      },
      "source": [
        "model.recommend(Ids[2], sparse_user_item)"
      ],
      "execution_count": null,
      "outputs": [
        {
          "output_type": "execute_result",
          "data": {
            "text/plain": [
              "[(104577, 0.00072719215),\n",
              " (104712, 0.000540288),\n",
              " (65766, 0.0005073907),\n",
              " (88593, 0.00039839535),\n",
              " (243416, 0.00038421474),\n",
              " (221160, 0.00034757162),\n",
              " (20755, 0.00033610448),\n",
              " (71340, 0.0003251759),\n",
              " (82735, 0.0003239167),\n",
              " (29672, 0.00031229306)]"
            ]
          },
          "metadata": {
            "tags": []
          },
          "execution_count": 31
        }
      ]
    },
    {
      "cell_type": "markdown",
      "metadata": {
        "id": "GtXEc105z4m5"
      },
      "source": [
        "# Inference"
      ]
    },
    {
      "cell_type": "code",
      "metadata": {
        "id": "qNvUTno1zQU5"
      },
      "source": [
        "for i in range(len(Ids1)):\n",
        "    user_id = Ids1[i]\n",
        "    recommended = model.recommend(user_id, sparse_user_item)\n",
        "    mcats = []\n",
        "    ratings = []\n",
        "    users = []\n",
        "\n",
        "    # Get mcat names from mcat ids\n",
        "    for item in recommended:\n",
        "      idx, rating = item\n",
        "      mcats.append(data.mcat.loc[data.mcat_id == idx].iloc[0])\n",
        "      ratings.append(rating)\n",
        "\n",
        "    recommendations = pd.DataFrame({'mcat_id': mcats, 'rating': rating})\n",
        "    recommendations['user_id'] = data.user.loc[data.user_id== Ids[i]].iloc[0]"
      ],
      "execution_count": null,
      "outputs": []
    },
    {
      "cell_type": "markdown",
      "metadata": {
        "id": "zZuvJ_q30Rl_"
      },
      "source": [
        "# Get recommendations"
      ]
    },
    {
      "cell_type": "code",
      "metadata": {
        "id": "Kk_EVmBP0DGi"
      },
      "source": [
        "R1 = R1.append(recommendations) "
      ],
      "execution_count": null,
      "outputs": []
    },
    {
      "cell_type": "code",
      "metadata": {
        "colab": {
          "base_uri": "https://localhost:8080/",
          "height": 359
        },
        "id": "_CH6cOHN0DMh",
        "outputId": "18494f3f-e3ac-4429-ae73-52a77812e441"
      },
      "source": [
        "#Saving the outputs in the required format\n",
        "R2 = R1[['user_id','mcat_id','rating']]\n",
        "R2 = R2.sort_values(by='user_id')\n",
        "# R2.to_excel('/content/gdrive/My Drive/Colab Notebooks/50_Days_of_Recommendation_Systems/output/user_to_mcat_recommen_ALS_grp_id13.xlsx',index=False)\n",
        "R1.head(10)"
      ],
      "execution_count": null,
      "outputs": [
        {
          "output_type": "execute_result",
          "data": {
            "text/html": [
              "<div>\n",
              "<style scoped>\n",
              "    .dataframe tbody tr th:only-of-type {\n",
              "        vertical-align: middle;\n",
              "    }\n",
              "\n",
              "    .dataframe tbody tr th {\n",
              "        vertical-align: top;\n",
              "    }\n",
              "\n",
              "    .dataframe thead th {\n",
              "        text-align: right;\n",
              "    }\n",
              "</style>\n",
              "<table border=\"1\" class=\"dataframe\">\n",
              "  <thead>\n",
              "    <tr style=\"text-align: right;\">\n",
              "      <th></th>\n",
              "      <th>mcat_id</th>\n",
              "      <th>rating</th>\n",
              "      <th>user_id</th>\n",
              "    </tr>\n",
              "  </thead>\n",
              "  <tbody>\n",
              "    <tr>\n",
              "      <th>0</th>\n",
              "      <td>B000C1UFP2</td>\n",
              "      <td>0.014967</td>\n",
              "      <td>A3COLQK8Y9V9A5</td>\n",
              "    </tr>\n",
              "    <tr>\n",
              "      <th>1</th>\n",
              "      <td>B0009OAI8G</td>\n",
              "      <td>0.014967</td>\n",
              "      <td>A3COLQK8Y9V9A5</td>\n",
              "    </tr>\n",
              "    <tr>\n",
              "      <th>2</th>\n",
              "      <td>B000F35R00</td>\n",
              "      <td>0.014967</td>\n",
              "      <td>A3COLQK8Y9V9A5</td>\n",
              "    </tr>\n",
              "    <tr>\n",
              "      <th>3</th>\n",
              "      <td>B0033EUIO8</td>\n",
              "      <td>0.014967</td>\n",
              "      <td>A3COLQK8Y9V9A5</td>\n",
              "    </tr>\n",
              "    <tr>\n",
              "      <th>4</th>\n",
              "      <td>B000F37UNM</td>\n",
              "      <td>0.014967</td>\n",
              "      <td>A3COLQK8Y9V9A5</td>\n",
              "    </tr>\n",
              "    <tr>\n",
              "      <th>5</th>\n",
              "      <td>B000VPPUEA</td>\n",
              "      <td>0.014967</td>\n",
              "      <td>A3COLQK8Y9V9A5</td>\n",
              "    </tr>\n",
              "    <tr>\n",
              "      <th>6</th>\n",
              "      <td>B000C1Z2D2</td>\n",
              "      <td>0.014967</td>\n",
              "      <td>A3COLQK8Y9V9A5</td>\n",
              "    </tr>\n",
              "    <tr>\n",
              "      <th>7</th>\n",
              "      <td>B0012J30LY</td>\n",
              "      <td>0.014967</td>\n",
              "      <td>A3COLQK8Y9V9A5</td>\n",
              "    </tr>\n",
              "    <tr>\n",
              "      <th>8</th>\n",
              "      <td>B000NNDNYY</td>\n",
              "      <td>0.014967</td>\n",
              "      <td>A3COLQK8Y9V9A5</td>\n",
              "    </tr>\n",
              "    <tr>\n",
              "      <th>9</th>\n",
              "      <td>B00121UVU0</td>\n",
              "      <td>0.014967</td>\n",
              "      <td>A3COLQK8Y9V9A5</td>\n",
              "    </tr>\n",
              "  </tbody>\n",
              "</table>\n",
              "</div>"
            ],
            "text/plain": [
              "      mcat_id    rating         user_id\n",
              "0  B000C1UFP2  0.014967  A3COLQK8Y9V9A5\n",
              "1  B0009OAI8G  0.014967  A3COLQK8Y9V9A5\n",
              "2  B000F35R00  0.014967  A3COLQK8Y9V9A5\n",
              "3  B0033EUIO8  0.014967  A3COLQK8Y9V9A5\n",
              "4  B000F37UNM  0.014967  A3COLQK8Y9V9A5\n",
              "5  B000VPPUEA  0.014967  A3COLQK8Y9V9A5\n",
              "6  B000C1Z2D2  0.014967  A3COLQK8Y9V9A5\n",
              "7  B0012J30LY  0.014967  A3COLQK8Y9V9A5\n",
              "8  B000NNDNYY  0.014967  A3COLQK8Y9V9A5\n",
              "9  B00121UVU0  0.014967  A3COLQK8Y9V9A5"
            ]
          },
          "metadata": {
            "tags": []
          },
          "execution_count": 42
        }
      ]
    }
  ]
}