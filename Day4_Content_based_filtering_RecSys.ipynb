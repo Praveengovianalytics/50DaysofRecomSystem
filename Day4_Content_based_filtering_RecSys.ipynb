{
  "nbformat": 4,
  "nbformat_minor": 0,
  "metadata": {
    "colab": {
      "name": "Day4-Content_based_filtering_RecSys.ipynb",
      "provenance": [],
      "include_colab_link": true
    },
    "kernelspec": {
      "name": "python3",
      "display_name": "Python 3"
    }
  },
  "cells": [
    {
      "cell_type": "markdown",
      "metadata": {
        "id": "view-in-github",
        "colab_type": "text"
      },
      "source": [
        "<a href=\"https://colab.research.google.com/github/Praveengovianalytics/50DaysofRecomSystem/blob/main/Day4_Content_based_filtering_RecSys.ipynb\" target=\"_parent\"><img src=\"https://colab.research.google.com/assets/colab-badge.svg\" alt=\"Open In Colab\"/></a>"
      ]
    },
    {
      "cell_type": "markdown",
      "metadata": {
        "id": "eBPW7Ykty6GG"
      },
      "source": [
        "#                             #50DaysofRecommendationSystems\n",
        "\n",
        "\n"
      ]
    },
    {
      "cell_type": "markdown",
      "metadata": {
        "id": "Ol4ye36xuHbE"
      },
      "source": [
        "<a id='RS'></a>\n",
        "# What Is A Recommender System?\n",
        "\n",
        "Recommender System is the name given to any software designed to recommend you objects (to purchase, to click on or  to watch) which are attractive to you with a high probability. Development of such systems became a hot topic for software developers and machine learning engineers in the last years. A well-performing recommender system can have significant boost in the profit many online platforms make.\n",
        "\n",
        "Nowadays, many of us interact with recommender systems on a daily basis. If you have an account in Amazon or Netflix or many similar online services, you may have received suggestions that often fit your interest. This can vary from a movie suggested by Netflix or very various products suggested by Amazon. The targeted advertisements on Facebook or the targeted pop-up advertisements in your browser are also other examples of applications of recommender systems. Almost no two person recieves the exact same advertisements or suggestions on an online platform.  All these personalized suggestions and advertistments use recommender systems to find the best match for your interests according to your former ratings, purchase or clicks.\n",
        "\n",
        "Although some of the suggestions that we receive from the existing automized recommender systems are very promising and suprisingly meet our interests, the opposite can also happen, as these systems are not perfect yet and their developments seems to have a long way ahead to improve. In this blog post I give you a brief overview about a subset of existing algorithms. I try to explain the *Matrix Factorization Collaborative Filtering algorithm* which is popular method used in many recommender systems,  step by step. I will show you how to programm this algorithm in Python and apply it on a toy problem to build a movie recommender system. Building such simple systems on your own will help us to develop some insights about how the recommender systems interact with our data, as well as letting us know about the issues and weak points of such systems.\n",
        "\n",
        "\n",
        "Some of different approaches that are often used for recommender systems can be listed as following.\n",
        "\n",
        "* Content-Based Recommender System\n",
        "\n",
        "One of the most straight-forward approaches to find a suitable recommendation for users of a platform is the *Content-Based Recommender System* approach. This method determines a rating value $R_{ij}$ for a specific user $u_i$ giving to a sepcific object $o_j$ by using a feature vector $\\vec{x}_i$ for the $i$-th user and a feature vector for the $j$-th object $\\vec{\\theta}_j$. We try to explain the idea of this approach in the  next section with a very small example. The biggest problem with such algorithms is that we require to know the important features which have impact on the decisions each user make. It is really difficult to find such set of features. \n",
        "\n",
        "Even if we can define a reasonably good set of important features, the next big challenge is to rate this features for every single item and user. Such information is often not available or not practical to extract fully. Although many platforms have access to some information about the users might be used as features like age, gender etc, often these information are not enough to build good enough feature vectors.\n",
        "\n"
      ]
    },
    {
      "cell_type": "code",
      "metadata": {
        "id": "S-MqqfktujGU"
      },
      "source": [
        "import pandas as pd"
      ],
      "execution_count": null,
      "outputs": []
    },
    {
      "cell_type": "markdown",
      "metadata": {
        "id": "Vz9CWL0sujyn"
      },
      "source": [
        "<a id='CBRS'></a>\n",
        "# Content-Based Recommender System\n",
        "\n",
        "Let's start with a simple example for the **content-based approach**. \n",
        "\n",
        "Let's imagine a tiny problem where we only have three users: Samineh, Markus and Peter. If we assume that the only important features for these users (of course in a very simplified scenario) are how much a movie is (1) romantic, (2) comedy  or (3) action, then we can assume a feature vector of size 3 for each user. $\\vec{x}_i=\\{interest~in~romance, interest~in~comdey, interest~in~action\\}$. \n",
        "\n",
        "We had the chance to ask all of our three users to let us know about their interests by filling their feature vectors. They could have rated each element with 0 if they don't have any interest, 1 if they really care about that feature and 0.5 if their feeling is somewhere in between. \n",
        "\n",
        "Samineh just likes romance movies and dislikes action and comedy a lot so her feature matrix look like: $\\vec{x_s}=[1,0,0]$. Markus likes comedy movies and is not into romance and action at all $\\vec{x_m}=[0,1,0]$. Peter dislikes romance but loves action and doesn't mind if there is a sense of humor in the movies so his feature vector looks like: $\\vec{x_p}=[0,0.5,1]$. Stacking all these feature vectors together makes the user feature matrix.  \n",
        "\n"
      ]
    },
    {
      "cell_type": "code",
      "metadata": {
        "id": "vJEyiDR6ul07",
        "outputId": "edb55ccd-09bc-4aa3-c702-759e03ba1ecb",
        "colab": {
          "base_uri": "https://localhost:8080/"
        }
      },
      "source": [
        "USER=pd.DataFrame([( [1, 0, 0]), ( [0, 1, 0]), ( [0, 0.5, 1])], \n",
        "                  columns=['Ramesh','Raju','Praveen'],\n",
        "                  index=['Romantic','Comedy','Action']);\n",
        "print(USER)"
      ],
      "execution_count": null,
      "outputs": [
        {
          "output_type": "stream",
          "text": [
            "          Ramesh  Raju  Praveen\n",
            "Romantic       1   0.0        0\n",
            "Comedy         0   1.0        0\n",
            "Action         0   0.5        1\n"
          ],
          "name": "stdout"
        }
      ]
    },
    {
      "cell_type": "markdown",
      "metadata": {
        "id": "63vWHPCNvVX_"
      },
      "source": [
        "We have three movies in our system kadhalan, ROBO2 and 23rd_pulikesi and we want to figure out what is the best recommendation for each user. In order to do that we need to define a feature vector for each movie. We ask some expert to do that for us. kadhalan is a very romantic movie and not funny or action at all so its fair if we rate its feature vector as $\\vec{\\theta}_{kadhalan}=[1,0,0]$. ROBO2 is an action movie with very little essence of romance and comedy, so our movie expert filled the Terminator's feature vector as $\\vec{\\theta}_{ROBO2}=[0.2,0.1,1]$. The 23rd_pulikesi is a comedy movie $\\vec{\\theta}_{23rd_pulikesi}=[0.0,1,0.2]$. Stacking all of the movie features together will give a movie feature matrix."
      ]
    },
    {
      "cell_type": "code",
      "metadata": {
        "id": "x5fbT-pgvMgv",
        "outputId": "edb603d8-52b9-43d5-9768-e0323f5f09e5",
        "colab": {
          "base_uri": "https://localhost:8080/"
        }
      },
      "source": [
        "ITEM=pd.DataFrame([( [1, 0, 0]), ( [0.2, 0.1, 1]), ( [0, 1, 0.2])],\n",
        "                  columns=['kadhalan','ROBO2','23rd_pulikesi'],\n",
        "                  index=['Romantic','Comedy','Action']);\n",
        "print(ITEM)"
      ],
      "execution_count": null,
      "outputs": [
        {
          "output_type": "stream",
          "text": [
            "          kadhalan  ROBO2  23rd_pulikesi\n",
            "Romantic       1.0    0.0            0.0\n",
            "Comedy         0.2    0.1            1.0\n",
            "Action         0.0    1.0            0.2\n"
          ],
          "name": "stdout"
        }
      ]
    },
    {
      "cell_type": "markdown",
      "metadata": {
        "id": "3dYLUgUkwY5w"
      },
      "source": [
        "The dot product of the $i$-th user feature vector $\\vec{x}_i$ and the $j$-th movie feature $\\vec{x}_j$ provides a sort of similarity measure. The larger the dot product $\\vec{x_i}\\cdot\\vec{\\theta_j}=R_{ij}$ is the likelier that the user $i$ is going to like the movie $j$. We can determine all the similarity measures for each user and item simply by multiplying the user feature matrix and the movie feature matrix, as follows:"
      ]
    },
    {
      "cell_type": "code",
      "metadata": {
        "id": "1_myNn-5vMux",
        "outputId": "bc215bcc-9a1f-4ee9-a455-c2186ac3d5f0",
        "colab": {
          "base_uri": "https://localhost:8080/",
          "height": 142
        }
      },
      "source": [
        "ITEM.T.dot(USER)"
      ],
      "execution_count": null,
      "outputs": [
        {
          "output_type": "execute_result",
          "data": {
            "text/html": [
              "<div>\n",
              "<style scoped>\n",
              "    .dataframe tbody tr th:only-of-type {\n",
              "        vertical-align: middle;\n",
              "    }\n",
              "\n",
              "    .dataframe tbody tr th {\n",
              "        vertical-align: top;\n",
              "    }\n",
              "\n",
              "    .dataframe thead th {\n",
              "        text-align: right;\n",
              "    }\n",
              "</style>\n",
              "<table border=\"1\" class=\"dataframe\">\n",
              "  <thead>\n",
              "    <tr style=\"text-align: right;\">\n",
              "      <th></th>\n",
              "      <th>Ramesh</th>\n",
              "      <th>Raju</th>\n",
              "      <th>Praveen</th>\n",
              "    </tr>\n",
              "  </thead>\n",
              "  <tbody>\n",
              "    <tr>\n",
              "      <th>kadhalan</th>\n",
              "      <td>1.0</td>\n",
              "      <td>0.2</td>\n",
              "      <td>0.0</td>\n",
              "    </tr>\n",
              "    <tr>\n",
              "      <th>ROBO2</th>\n",
              "      <td>0.0</td>\n",
              "      <td>0.6</td>\n",
              "      <td>1.0</td>\n",
              "    </tr>\n",
              "    <tr>\n",
              "      <th>23rd_pulikesi</th>\n",
              "      <td>0.0</td>\n",
              "      <td>1.1</td>\n",
              "      <td>0.2</td>\n",
              "    </tr>\n",
              "  </tbody>\n",
              "</table>\n",
              "</div>"
            ],
            "text/plain": [
              "               Ramesh  Raju  Praveen\n",
              "kadhalan          1.0   0.2      0.0\n",
              "ROBO2             0.0   0.6      1.0\n",
              "23rd_pulikesi     0.0   1.1      0.2"
            ]
          },
          "metadata": {
            "tags": []
          },
          "execution_count": 10
        }
      ]
    },
    {
      "cell_type": "markdown",
      "metadata": {
        "id": "iM-ZKv-_wtGh"
      },
      "source": [
        "So according to this simple system we can recommend kadhalan to Ramesh. To Raju we might recommend 23rd_pulikesi first and as a second choice ROBO2. Th best recommendation for Praveen (me) is the Terminator. \n",
        "\n",
        "I think it is already pretty clear that the main problem with the content-based recommnder systems is the missing information about the feature vectors. First of all it is  very complicated to consider all the important features explicitly. Moreover, it is almost impossible to weight all the features for all users and all items. [Matrix Factorization](#MF) tries to learn these feature matrices by using the exisitng ratings of users.  "
      ]
    },
    {
      "cell_type": "code",
      "metadata": {
        "id": "62BMTYO1vMdy"
      },
      "source": [
        "\n"
      ],
      "execution_count": null,
      "outputs": []
    },
    {
      "cell_type": "markdown",
      "metadata": {
        "id": "CZAdokxt8ksh"
      },
      "source": [
        "# Day 4 "
      ]
    },
    {
      "cell_type": "markdown",
      "metadata": {
        "id": "iWmccnb18vgs"
      },
      "source": [
        "[To read more about the dataset used below](http://files.grouplens.org/datasets/movielens/ml-25m-README.html)"
      ]
    },
    {
      "cell_type": "markdown",
      "metadata": {
        "id": "_DgnBBmk8oIU"
      },
      "source": [
        ""
      ]
    },
    {
      "cell_type": "code",
      "metadata": {
        "id": "Y64FRNBy8Cnw",
        "outputId": "f8d0f8a9-3bb7-46b4-afcc-d198bf40e05d",
        "colab": {
          "base_uri": "https://localhost:8080/"
        }
      },
      "source": [
        "!wget http://files.grouplens.org/datasets/movielens/ml-latest-small.zip\n"
      ],
      "execution_count": null,
      "outputs": [
        {
          "output_type": "stream",
          "text": [
            "--2020-11-12 16:19:00--  http://files.grouplens.org/datasets/movielens/ml-latest-small.zip\n",
            "Resolving files.grouplens.org (files.grouplens.org)... 128.101.65.152\n",
            "Connecting to files.grouplens.org (files.grouplens.org)|128.101.65.152|:80... connected.\n",
            "HTTP request sent, awaiting response... 200 OK\n",
            "Length: 978202 (955K) [application/zip]\n",
            "Saving to: ‘ml-latest-small.zip’\n",
            "\n",
            "ml-latest-small.zip 100%[===================>] 955.28K  4.54MB/s    in 0.2s    \n",
            "\n",
            "2020-11-12 16:19:00 (4.54 MB/s) - ‘ml-latest-small.zip’ saved [978202/978202]\n",
            "\n"
          ],
          "name": "stdout"
        }
      ]
    },
    {
      "cell_type": "code",
      "metadata": {
        "id": "2Dpkhcn18jB-",
        "outputId": "be0e83fd-80d2-47ee-ceb4-ca7feaeb5813",
        "colab": {
          "base_uri": "https://localhost:8080/"
        }
      },
      "source": [
        "!unzip ml-latest-small.zip"
      ],
      "execution_count": null,
      "outputs": [
        {
          "output_type": "stream",
          "text": [
            "Archive:  ml-latest-small.zip\n",
            "   creating: ml-latest-small/\n",
            "  inflating: ml-latest-small/links.csv  \n",
            "  inflating: ml-latest-small/tags.csv  \n",
            "  inflating: ml-latest-small/ratings.csv  \n",
            "  inflating: ml-latest-small/README.txt  \n",
            "  inflating: ml-latest-small/movies.csv  \n"
          ],
          "name": "stdout"
        }
      ]
    },
    {
      "cell_type": "code",
      "metadata": {
        "id": "gprk-iY78-ev",
        "outputId": "f8ce4113-292b-4f91-f48a-6ddb0a113c79",
        "colab": {
          "base_uri": "https://localhost:8080/"
        }
      },
      "source": [
        "!pip install playsound\n",
        "!pip install gtts\n",
        "\n",
        "#Importing the required libraries\n",
        "import pandas as pd \n",
        "import numpy as np\n",
        "import random\n",
        "from playsound import playsound\n",
        "import re \n",
        "import gtts\n",
        "import os\n",
        "import matplotlib.pyplot as plt\n",
        "import seaborn as sns\n",
        "%matplotlib inline"
      ],
      "execution_count": null,
      "outputs": [
        {
          "output_type": "stream",
          "text": [
            "Requirement already satisfied: playsound in /usr/local/lib/python3.6/dist-packages (1.2.2)\n",
            "Requirement already satisfied: gtts in /usr/local/lib/python3.6/dist-packages (2.1.2)\n",
            "Requirement already satisfied: gtts-token>=1.1.4 in /usr/local/lib/python3.6/dist-packages (from gtts) (1.1.4)\n",
            "Requirement already satisfied: beautifulsoup4 in /usr/local/lib/python3.6/dist-packages (from gtts) (4.6.3)\n",
            "Requirement already satisfied: six in /usr/local/lib/python3.6/dist-packages (from gtts) (1.15.0)\n",
            "Requirement already satisfied: click in /usr/local/lib/python3.6/dist-packages (from gtts) (7.1.2)\n",
            "Requirement already satisfied: requests in /usr/local/lib/python3.6/dist-packages (from gtts) (2.23.0)\n",
            "Requirement already satisfied: urllib3!=1.25.0,!=1.25.1,<1.26,>=1.21.1 in /usr/local/lib/python3.6/dist-packages (from requests->gtts) (1.24.3)\n",
            "Requirement already satisfied: chardet<4,>=3.0.2 in /usr/local/lib/python3.6/dist-packages (from requests->gtts) (3.0.4)\n",
            "Requirement already satisfied: certifi>=2017.4.17 in /usr/local/lib/python3.6/dist-packages (from requests->gtts) (2020.6.20)\n",
            "Requirement already satisfied: idna<3,>=2.5 in /usr/local/lib/python3.6/dist-packages (from requests->gtts) (2.10)\n"
          ],
          "name": "stdout"
        }
      ]
    },
    {
      "cell_type": "markdown",
      "metadata": {
        "id": "yTtPzEm69e21"
      },
      "source": [
        "\n",
        "# Importing the dataset"
      ]
    },
    {
      "cell_type": "code",
      "metadata": {
        "id": "1oLfMLNl9Ybs"
      },
      "source": [
        "movies_dataset=pd.read_csv('ml-latest-small/movies.csv')\n",
        "ratings_dataset=pd.read_csv('ml-latest-small/ratings.csv')"
      ],
      "execution_count": null,
      "outputs": []
    },
    {
      "cell_type": "code",
      "metadata": {
        "id": "EaDKPqAD9nhV",
        "outputId": "970fa3df-ac85-450f-f0df-d56b240519fe",
        "colab": {
          "base_uri": "https://localhost:8080/",
          "height": 204
        }
      },
      "source": [
        "movies_dataset.head(5)"
      ],
      "execution_count": null,
      "outputs": [
        {
          "output_type": "execute_result",
          "data": {
            "text/html": [
              "<div>\n",
              "<style scoped>\n",
              "    .dataframe tbody tr th:only-of-type {\n",
              "        vertical-align: middle;\n",
              "    }\n",
              "\n",
              "    .dataframe tbody tr th {\n",
              "        vertical-align: top;\n",
              "    }\n",
              "\n",
              "    .dataframe thead th {\n",
              "        text-align: right;\n",
              "    }\n",
              "</style>\n",
              "<table border=\"1\" class=\"dataframe\">\n",
              "  <thead>\n",
              "    <tr style=\"text-align: right;\">\n",
              "      <th></th>\n",
              "      <th>movieId</th>\n",
              "      <th>title</th>\n",
              "      <th>genres</th>\n",
              "    </tr>\n",
              "  </thead>\n",
              "  <tbody>\n",
              "    <tr>\n",
              "      <th>0</th>\n",
              "      <td>1</td>\n",
              "      <td>Toy Story (1995)</td>\n",
              "      <td>Adventure|Animation|Children|Comedy|Fantasy</td>\n",
              "    </tr>\n",
              "    <tr>\n",
              "      <th>1</th>\n",
              "      <td>2</td>\n",
              "      <td>Jumanji (1995)</td>\n",
              "      <td>Adventure|Children|Fantasy</td>\n",
              "    </tr>\n",
              "    <tr>\n",
              "      <th>2</th>\n",
              "      <td>3</td>\n",
              "      <td>Grumpier Old Men (1995)</td>\n",
              "      <td>Comedy|Romance</td>\n",
              "    </tr>\n",
              "    <tr>\n",
              "      <th>3</th>\n",
              "      <td>4</td>\n",
              "      <td>Waiting to Exhale (1995)</td>\n",
              "      <td>Comedy|Drama|Romance</td>\n",
              "    </tr>\n",
              "    <tr>\n",
              "      <th>4</th>\n",
              "      <td>5</td>\n",
              "      <td>Father of the Bride Part II (1995)</td>\n",
              "      <td>Comedy</td>\n",
              "    </tr>\n",
              "  </tbody>\n",
              "</table>\n",
              "</div>"
            ],
            "text/plain": [
              "   movieId  ...                                       genres\n",
              "0        1  ...  Adventure|Animation|Children|Comedy|Fantasy\n",
              "1        2  ...                   Adventure|Children|Fantasy\n",
              "2        3  ...                               Comedy|Romance\n",
              "3        4  ...                         Comedy|Drama|Romance\n",
              "4        5  ...                                       Comedy\n",
              "\n",
              "[5 rows x 3 columns]"
            ]
          },
          "metadata": {
            "tags": []
          },
          "execution_count": 4
        }
      ]
    },
    {
      "cell_type": "code",
      "metadata": {
        "id": "z6jwuTgF9tXs",
        "outputId": "01d15a61-d660-4f06-859d-e538de5ac496",
        "colab": {
          "base_uri": "https://localhost:8080/",
          "height": 204
        }
      },
      "source": [
        "ratings_dataset.head()"
      ],
      "execution_count": null,
      "outputs": [
        {
          "output_type": "execute_result",
          "data": {
            "text/html": [
              "<div>\n",
              "<style scoped>\n",
              "    .dataframe tbody tr th:only-of-type {\n",
              "        vertical-align: middle;\n",
              "    }\n",
              "\n",
              "    .dataframe tbody tr th {\n",
              "        vertical-align: top;\n",
              "    }\n",
              "\n",
              "    .dataframe thead th {\n",
              "        text-align: right;\n",
              "    }\n",
              "</style>\n",
              "<table border=\"1\" class=\"dataframe\">\n",
              "  <thead>\n",
              "    <tr style=\"text-align: right;\">\n",
              "      <th></th>\n",
              "      <th>userId</th>\n",
              "      <th>movieId</th>\n",
              "      <th>rating</th>\n",
              "      <th>timestamp</th>\n",
              "    </tr>\n",
              "  </thead>\n",
              "  <tbody>\n",
              "    <tr>\n",
              "      <th>0</th>\n",
              "      <td>1</td>\n",
              "      <td>1</td>\n",
              "      <td>4.0</td>\n",
              "      <td>964982703</td>\n",
              "    </tr>\n",
              "    <tr>\n",
              "      <th>1</th>\n",
              "      <td>1</td>\n",
              "      <td>3</td>\n",
              "      <td>4.0</td>\n",
              "      <td>964981247</td>\n",
              "    </tr>\n",
              "    <tr>\n",
              "      <th>2</th>\n",
              "      <td>1</td>\n",
              "      <td>6</td>\n",
              "      <td>4.0</td>\n",
              "      <td>964982224</td>\n",
              "    </tr>\n",
              "    <tr>\n",
              "      <th>3</th>\n",
              "      <td>1</td>\n",
              "      <td>47</td>\n",
              "      <td>5.0</td>\n",
              "      <td>964983815</td>\n",
              "    </tr>\n",
              "    <tr>\n",
              "      <th>4</th>\n",
              "      <td>1</td>\n",
              "      <td>50</td>\n",
              "      <td>5.0</td>\n",
              "      <td>964982931</td>\n",
              "    </tr>\n",
              "  </tbody>\n",
              "</table>\n",
              "</div>"
            ],
            "text/plain": [
              "   userId  movieId  rating  timestamp\n",
              "0       1        1     4.0  964982703\n",
              "1       1        3     4.0  964981247\n",
              "2       1        6     4.0  964982224\n",
              "3       1       47     5.0  964983815\n",
              "4       1       50     5.0  964982931"
            ]
          },
          "metadata": {
            "tags": []
          },
          "execution_count": 7
        }
      ]
    },
    {
      "cell_type": "code",
      "metadata": {
        "id": "d5LpWfsV97r9",
        "outputId": "0a417d02-296e-49cd-d545-3222ea1cfa43",
        "colab": {
          "base_uri": "https://localhost:8080/"
        }
      },
      "source": [
        "movies_dataset.info()"
      ],
      "execution_count": null,
      "outputs": [
        {
          "output_type": "stream",
          "text": [
            "<class 'pandas.core.frame.DataFrame'>\n",
            "RangeIndex: 62423 entries, 0 to 62422\n",
            "Data columns (total 3 columns):\n",
            " #   Column   Non-Null Count  Dtype \n",
            "---  ------   --------------  ----- \n",
            " 0   movieId  62423 non-null  int64 \n",
            " 1   title    62423 non-null  object\n",
            " 2   genres   62423 non-null  object\n",
            "dtypes: int64(1), object(2)\n",
            "memory usage: 1.4+ MB\n"
          ],
          "name": "stdout"
        }
      ]
    },
    {
      "cell_type": "code",
      "metadata": {
        "id": "O0eeLj7uEtop",
        "outputId": "1442fa50-28a9-4446-a682-17dd23b2096e",
        "colab": {
          "base_uri": "https://localhost:8080/"
        }
      },
      "source": [
        "ratings_dataset.info()"
      ],
      "execution_count": null,
      "outputs": [
        {
          "output_type": "stream",
          "text": [
            "<class 'pandas.core.frame.DataFrame'>\n",
            "RangeIndex: 25000095 entries, 0 to 25000094\n",
            "Data columns (total 4 columns):\n",
            " #   Column     Dtype  \n",
            "---  ------     -----  \n",
            " 0   userId     int64  \n",
            " 1   movieId    int64  \n",
            " 2   rating     float64\n",
            " 3   timestamp  int64  \n",
            "dtypes: float64(1), int64(3)\n",
            "memory usage: 762.9 MB\n"
          ],
          "name": "stdout"
        }
      ]
    },
    {
      "cell_type": "markdown",
      "metadata": {
        "id": "4BaKya22F39a"
      },
      "source": [
        "# Five point Statistical Summary"
      ]
    },
    {
      "cell_type": "code",
      "metadata": {
        "id": "2gbO-pDqEwBg",
        "outputId": "0d5f16ce-a9ed-4402-84cf-c2a169b5b614",
        "colab": {
          "base_uri": "https://localhost:8080/",
          "height": 297
        }
      },
      "source": [
        "ratings_dataset.describe()"
      ],
      "execution_count": null,
      "outputs": [
        {
          "output_type": "execute_result",
          "data": {
            "text/html": [
              "<div>\n",
              "<style scoped>\n",
              "    .dataframe tbody tr th:only-of-type {\n",
              "        vertical-align: middle;\n",
              "    }\n",
              "\n",
              "    .dataframe tbody tr th {\n",
              "        vertical-align: top;\n",
              "    }\n",
              "\n",
              "    .dataframe thead th {\n",
              "        text-align: right;\n",
              "    }\n",
              "</style>\n",
              "<table border=\"1\" class=\"dataframe\">\n",
              "  <thead>\n",
              "    <tr style=\"text-align: right;\">\n",
              "      <th></th>\n",
              "      <th>userId</th>\n",
              "      <th>movieId</th>\n",
              "      <th>rating</th>\n",
              "      <th>timestamp</th>\n",
              "    </tr>\n",
              "  </thead>\n",
              "  <tbody>\n",
              "    <tr>\n",
              "      <th>count</th>\n",
              "      <td>100836.000000</td>\n",
              "      <td>100836.000000</td>\n",
              "      <td>100836.000000</td>\n",
              "      <td>1.008360e+05</td>\n",
              "    </tr>\n",
              "    <tr>\n",
              "      <th>mean</th>\n",
              "      <td>326.127564</td>\n",
              "      <td>19435.295718</td>\n",
              "      <td>3.501557</td>\n",
              "      <td>1.205946e+09</td>\n",
              "    </tr>\n",
              "    <tr>\n",
              "      <th>std</th>\n",
              "      <td>182.618491</td>\n",
              "      <td>35530.987199</td>\n",
              "      <td>1.042529</td>\n",
              "      <td>2.162610e+08</td>\n",
              "    </tr>\n",
              "    <tr>\n",
              "      <th>min</th>\n",
              "      <td>1.000000</td>\n",
              "      <td>1.000000</td>\n",
              "      <td>0.500000</td>\n",
              "      <td>8.281246e+08</td>\n",
              "    </tr>\n",
              "    <tr>\n",
              "      <th>25%</th>\n",
              "      <td>177.000000</td>\n",
              "      <td>1199.000000</td>\n",
              "      <td>3.000000</td>\n",
              "      <td>1.019124e+09</td>\n",
              "    </tr>\n",
              "    <tr>\n",
              "      <th>50%</th>\n",
              "      <td>325.000000</td>\n",
              "      <td>2991.000000</td>\n",
              "      <td>3.500000</td>\n",
              "      <td>1.186087e+09</td>\n",
              "    </tr>\n",
              "    <tr>\n",
              "      <th>75%</th>\n",
              "      <td>477.000000</td>\n",
              "      <td>8122.000000</td>\n",
              "      <td>4.000000</td>\n",
              "      <td>1.435994e+09</td>\n",
              "    </tr>\n",
              "    <tr>\n",
              "      <th>max</th>\n",
              "      <td>610.000000</td>\n",
              "      <td>193609.000000</td>\n",
              "      <td>5.000000</td>\n",
              "      <td>1.537799e+09</td>\n",
              "    </tr>\n",
              "  </tbody>\n",
              "</table>\n",
              "</div>"
            ],
            "text/plain": [
              "              userId        movieId         rating     timestamp\n",
              "count  100836.000000  100836.000000  100836.000000  1.008360e+05\n",
              "mean      326.127564   19435.295718       3.501557  1.205946e+09\n",
              "std       182.618491   35530.987199       1.042529  2.162610e+08\n",
              "min         1.000000       1.000000       0.500000  8.281246e+08\n",
              "25%       177.000000    1199.000000       3.000000  1.019124e+09\n",
              "50%       325.000000    2991.000000       3.500000  1.186087e+09\n",
              "75%       477.000000    8122.000000       4.000000  1.435994e+09\n",
              "max       610.000000  193609.000000       5.000000  1.537799e+09"
            ]
          },
          "metadata": {
            "tags": []
          },
          "execution_count": 8
        }
      ]
    },
    {
      "cell_type": "code",
      "metadata": {
        "id": "rhqrOn4TFTG4",
        "outputId": "f4c5959d-87ed-4bdf-e027-0ec5e306da4b",
        "colab": {
          "base_uri": "https://localhost:8080/",
          "height": 296
        }
      },
      "source": [
        "sns.histplot(ratings_dataset['rating'])"
      ],
      "execution_count": null,
      "outputs": [
        {
          "output_type": "execute_result",
          "data": {
            "text/plain": [
              "<matplotlib.axes._subplots.AxesSubplot at 0x7f746425c278>"
            ]
          },
          "metadata": {
            "tags": []
          },
          "execution_count": 9
        },
        {
          "output_type": "display_data",
          "data": {
            "image/png": "[encoded data removed]",
            "text/plain": [
              "<Figure size 432x288 with 1 Axes>"
            ]
          },
          "metadata": {
            "tags": [],
            "needs_background": "light"
          }
        }
      ]
    },
    {
      "cell_type": "code",
      "metadata": {
        "id": "zu55q44vFslK",
        "outputId": "a5806bfd-f885-411c-d351-4fbf574bfa21",
        "colab": {
          "base_uri": "https://localhost:8080/",
          "height": 296
        }
      },
      "source": [
        "sns.kdeplot(ratings_dataset['rating'])"
      ],
      "execution_count": null,
      "outputs": [
        {
          "output_type": "execute_result",
          "data": {
            "text/plain": [
              "<matplotlib.axes._subplots.AxesSubplot at 0x7f746407a668>"
            ]
          },
          "metadata": {
            "tags": []
          },
          "execution_count": 10
        },
        {
          "output_type": "display_data",
          "data": {
            "image/png": "[encoded data removed]",
            "text/plain": [
              "<Figure size 432x288 with 1 Axes>"
            ]
          },
          "metadata": {
            "tags": [],
            "needs_background": "light"
          }
        }
      ]
    },
    {
      "cell_type": "markdown",
      "metadata": {
        "id": "tn6RNESzFCfB"
      },
      "source": [
        "# Observation :- \n",
        "\n",
        "Good to see average movie rating is 3.5 "
      ]
    },
    {
      "cell_type": "markdown",
      "metadata": {
        "id": "epMqhRkbGYzS"
      },
      "source": [
        "#Converting the format of Genre column to a list and then appending to the new list"
      ]
    },
    {
      "cell_type": "code",
      "metadata": {
        "id": "XvfxYrFEF-gO"
      },
      "source": [
        "#Converting the format of Genre column to a list and then appending to the new list\n",
        "Genre=[]\n",
        "Genres={}\n",
        "for num in range(0,len(movies_dataset)):\n",
        "    key=movies_dataset.iloc[num]['title']\n",
        "    value=movies_dataset.iloc[num]['genres'].split('|')\n",
        "    Genres[key]=value\n",
        "    Genre.append(value)"
      ],
      "execution_count": null,
      "outputs": []
    },
    {
      "cell_type": "code",
      "metadata": {
        "id": "BBuaE1F_HKu-",
        "outputId": "4b9d3d77-5f2a-458f-9ebd-b61688b5ed40",
        "colab": {
          "base_uri": "https://localhost:8080/"
        }
      },
      "source": [
        "Genre[:5]"
      ],
      "execution_count": null,
      "outputs": [
        {
          "output_type": "execute_result",
          "data": {
            "text/plain": [
              "[['Adventure', 'Animation', 'Children', 'Comedy', 'Fantasy'],\n",
              " ['Adventure', 'Children', 'Fantasy'],\n",
              " ['Comedy', 'Romance'],\n",
              " ['Comedy', 'Drama', 'Romance'],\n",
              " ['Comedy']]"
            ]
          },
          "metadata": {
            "tags": []
          },
          "execution_count": 33
        }
      ]
    },
    {
      "cell_type": "markdown",
      "metadata": {
        "id": "odp1rORiGcVc"
      },
      "source": [
        "#Making a new column in our original Dataset    "
      ]
    },
    {
      "cell_type": "code",
      "metadata": {
        "id": "DktnE8eOF-mN"
      },
      "source": [
        "movies_dataset['new'] =Genre"
      ],
      "execution_count": null,
      "outputs": []
    },
    {
      "cell_type": "markdown",
      "metadata": {
        "id": "YYzDRnoHHx7S"
      },
      "source": [
        "#Getting the year from the movie column "
      ]
    },
    {
      "cell_type": "code",
      "metadata": {
        "id": "UyQbclTQF-s8"
      },
      "source": [
        "p = re.compile(r\"(?:\\((\\d{4})\\))?\\s*$\")\n",
        "years=[]\n",
        "for movies in movies_dataset['title']:\n",
        "     m = p.search(movies)\n",
        "     year = m.group(1)\n",
        "     years.append(year)  \n",
        "movies_dataset['year']=years"
      ],
      "execution_count": null,
      "outputs": []
    },
    {
      "cell_type": "code",
      "metadata": {
        "id": "V2dtW6QrF-vx",
        "outputId": "7a425646-c242-488d-992a-839a2e907fc1",
        "colab": {
          "base_uri": "https://localhost:8080/",
          "height": 204
        }
      },
      "source": [
        "movies_dataset.head()"
      ],
      "execution_count": null,
      "outputs": [
        {
          "output_type": "execute_result",
          "data": {
            "text/html": [
              "<div>\n",
              "<style scoped>\n",
              "    .dataframe tbody tr th:only-of-type {\n",
              "        vertical-align: middle;\n",
              "    }\n",
              "\n",
              "    .dataframe tbody tr th {\n",
              "        vertical-align: top;\n",
              "    }\n",
              "\n",
              "    .dataframe thead th {\n",
              "        text-align: right;\n",
              "    }\n",
              "</style>\n",
              "<table border=\"1\" class=\"dataframe\">\n",
              "  <thead>\n",
              "    <tr style=\"text-align: right;\">\n",
              "      <th></th>\n",
              "      <th>movieId</th>\n",
              "      <th>title</th>\n",
              "      <th>genres</th>\n",
              "      <th>new</th>\n",
              "      <th>year</th>\n",
              "    </tr>\n",
              "  </thead>\n",
              "  <tbody>\n",
              "    <tr>\n",
              "      <th>0</th>\n",
              "      <td>1</td>\n",
              "      <td>Toy Story (1995)</td>\n",
              "      <td>Adventure|Animation|Children|Comedy|Fantasy</td>\n",
              "      <td>[Adventure, Animation, Children, Comedy, Fantasy]</td>\n",
              "      <td>1995</td>\n",
              "    </tr>\n",
              "    <tr>\n",
              "      <th>1</th>\n",
              "      <td>2</td>\n",
              "      <td>Jumanji (1995)</td>\n",
              "      <td>Adventure|Children|Fantasy</td>\n",
              "      <td>[Adventure, Children, Fantasy]</td>\n",
              "      <td>1995</td>\n",
              "    </tr>\n",
              "    <tr>\n",
              "      <th>2</th>\n",
              "      <td>3</td>\n",
              "      <td>Grumpier Old Men (1995)</td>\n",
              "      <td>Comedy|Romance</td>\n",
              "      <td>[Comedy, Romance]</td>\n",
              "      <td>1995</td>\n",
              "    </tr>\n",
              "    <tr>\n",
              "      <th>3</th>\n",
              "      <td>4</td>\n",
              "      <td>Waiting to Exhale (1995)</td>\n",
              "      <td>Comedy|Drama|Romance</td>\n",
              "      <td>[Comedy, Drama, Romance]</td>\n",
              "      <td>1995</td>\n",
              "    </tr>\n",
              "    <tr>\n",
              "      <th>4</th>\n",
              "      <td>5</td>\n",
              "      <td>Father of the Bride Part II (1995)</td>\n",
              "      <td>Comedy</td>\n",
              "      <td>[Comedy]</td>\n",
              "      <td>1995</td>\n",
              "    </tr>\n",
              "  </tbody>\n",
              "</table>\n",
              "</div>"
            ],
            "text/plain": [
              "   movieId  ...  year\n",
              "0        1  ...  1995\n",
              "1        2  ...  1995\n",
              "2        3  ...  1995\n",
              "3        4  ...  1995\n",
              "4        5  ...  1995\n",
              "\n",
              "[5 rows x 5 columns]"
            ]
          },
          "metadata": {
            "tags": []
          },
          "execution_count": 15
        }
      ]
    },
    {
      "cell_type": "markdown",
      "metadata": {
        "id": "Y9EkX2sFIMQB"
      },
      "source": [
        "#Extract the movie name from the movie title "
      ]
    },
    {
      "cell_type": "code",
      "metadata": {
        "id": "oyZwLZjnJwvz"
      },
      "source": [
        "movies_dataset['movie_name'] = movies_dataset['title'].str[:-7]"
      ],
      "execution_count": null,
      "outputs": []
    },
    {
      "cell_type": "code",
      "metadata": {
        "id": "pzJK_t3WF-pP",
        "outputId": "0e9cb38c-de99-418f-ec7d-e09c61a2847c",
        "colab": {
          "base_uri": "https://localhost:8080/",
          "height": 204
        }
      },
      "source": [
        "movies_dataset.head()"
      ],
      "execution_count": null,
      "outputs": [
        {
          "output_type": "execute_result",
          "data": {
            "text/html": [
              "<div>\n",
              "<style scoped>\n",
              "    .dataframe tbody tr th:only-of-type {\n",
              "        vertical-align: middle;\n",
              "    }\n",
              "\n",
              "    .dataframe tbody tr th {\n",
              "        vertical-align: top;\n",
              "    }\n",
              "\n",
              "    .dataframe thead th {\n",
              "        text-align: right;\n",
              "    }\n",
              "</style>\n",
              "<table border=\"1\" class=\"dataframe\">\n",
              "  <thead>\n",
              "    <tr style=\"text-align: right;\">\n",
              "      <th></th>\n",
              "      <th>movieId</th>\n",
              "      <th>title</th>\n",
              "      <th>genres</th>\n",
              "      <th>new</th>\n",
              "      <th>year</th>\n",
              "      <th>movie_name</th>\n",
              "    </tr>\n",
              "  </thead>\n",
              "  <tbody>\n",
              "    <tr>\n",
              "      <th>0</th>\n",
              "      <td>1</td>\n",
              "      <td>Toy Story (1995)</td>\n",
              "      <td>Adventure|Animation|Children|Comedy|Fantasy</td>\n",
              "      <td>[Adventure, Animation, Children, Comedy, Fantasy]</td>\n",
              "      <td>1995</td>\n",
              "      <td>Toy Story</td>\n",
              "    </tr>\n",
              "    <tr>\n",
              "      <th>1</th>\n",
              "      <td>2</td>\n",
              "      <td>Jumanji (1995)</td>\n",
              "      <td>Adventure|Children|Fantasy</td>\n",
              "      <td>[Adventure, Children, Fantasy]</td>\n",
              "      <td>1995</td>\n",
              "      <td>Jumanji</td>\n",
              "    </tr>\n",
              "    <tr>\n",
              "      <th>2</th>\n",
              "      <td>3</td>\n",
              "      <td>Grumpier Old Men (1995)</td>\n",
              "      <td>Comedy|Romance</td>\n",
              "      <td>[Comedy, Romance]</td>\n",
              "      <td>1995</td>\n",
              "      <td>Grumpier Old Men</td>\n",
              "    </tr>\n",
              "    <tr>\n",
              "      <th>3</th>\n",
              "      <td>4</td>\n",
              "      <td>Waiting to Exhale (1995)</td>\n",
              "      <td>Comedy|Drama|Romance</td>\n",
              "      <td>[Comedy, Drama, Romance]</td>\n",
              "      <td>1995</td>\n",
              "      <td>Waiting to Exhale</td>\n",
              "    </tr>\n",
              "    <tr>\n",
              "      <th>4</th>\n",
              "      <td>5</td>\n",
              "      <td>Father of the Bride Part II (1995)</td>\n",
              "      <td>Comedy</td>\n",
              "      <td>[Comedy]</td>\n",
              "      <td>1995</td>\n",
              "      <td>Father of the Bride Part II</td>\n",
              "    </tr>\n",
              "  </tbody>\n",
              "</table>\n",
              "</div>"
            ],
            "text/plain": [
              "   movieId  ...                   movie_name\n",
              "0        1  ...                    Toy Story\n",
              "1        2  ...                      Jumanji\n",
              "2        3  ...             Grumpier Old Men\n",
              "3        4  ...            Waiting to Exhale\n",
              "4        5  ...  Father of the Bride Part II\n",
              "\n",
              "[5 rows x 6 columns]"
            ]
          },
          "metadata": {
            "tags": []
          },
          "execution_count": 17
        }
      ]
    },
    {
      "cell_type": "markdown",
      "metadata": {
        "id": "1FCeuQ2_NpxW"
      },
      "source": [
        "#Converting the datatype of new column from list to string as required by the function"
      ]
    },
    {
      "cell_type": "code",
      "metadata": {
        "id": "NQFELquUF-jI"
      },
      "source": [
        "movies_dataset['new'] = movies_dataset['new'].apply(' '.join)"
      ],
      "execution_count": null,
      "outputs": []
    },
    {
      "cell_type": "markdown",
      "metadata": {
        "id": "fGvDk9OBN6uw"
      },
      "source": [
        "#Applying Feature extraction - Vectorising the movie names"
      ]
    },
    {
      "cell_type": "code",
      "metadata": {
        "id": "b0f7S5PPF-aT"
      },
      "source": [
        "from sklearn.feature_extraction.text import TfidfVectorizer"
      ],
      "execution_count": null,
      "outputs": []
    },
    {
      "cell_type": "code",
      "metadata": {
        "id": "tmT3AB3vOEKB"
      },
      "source": [
        "tfid=TfidfVectorizer(stop_words='english')"
      ],
      "execution_count": null,
      "outputs": []
    },
    {
      "cell_type": "markdown",
      "metadata": {
        "id": "dT62yH0MONnG"
      },
      "source": [
        "#matrix after applying the tfidf"
      ]
    },
    {
      "cell_type": "code",
      "metadata": {
        "id": "TMe2xwHtOFOq"
      },
      "source": [
        "matrix=tfid.fit_transform(movies_dataset['new'])"
      ],
      "execution_count": null,
      "outputs": []
    },
    {
      "cell_type": "code",
      "metadata": {
        "id": "6K6tD_hgOEw6",
        "outputId": "02e19375-3018-4c18-aefd-088f597b00d7",
        "colab": {
          "base_uri": "https://localhost:8080/"
        }
      },
      "source": [
        "tfid.fit_transform(movies_dataset['new'])"
      ],
      "execution_count": null,
      "outputs": [
        {
          "output_type": "execute_result",
          "data": {
            "text/plain": [
              "<9742x23 sparse matrix of type '<class 'numpy.float64'>'\n",
              "\twith 23185 stored elements in Compressed Sparse Row format>"
            ]
          },
          "metadata": {
            "tags": []
          },
          "execution_count": 22
        }
      ]
    },
    {
      "cell_type": "markdown",
      "metadata": {
        "id": "v_UZIbm2Oqjb"
      },
      "source": [
        "\n",
        "# Compute the cosine similarity of every genre"
      ]
    },
    {
      "cell_type": "code",
      "metadata": {
        "id": "Vboj6WehOEdx"
      },
      "source": [
        "from sklearn.metrics.pairwise import cosine_similarity"
      ],
      "execution_count": null,
      "outputs": []
    },
    {
      "cell_type": "code",
      "metadata": {
        "id": "LUFU-AIpO3eG"
      },
      "source": [
        "??cosine_similarity"
      ],
      "execution_count": null,
      "outputs": []
    },
    {
      "cell_type": "code",
      "metadata": {
        "id": "r_bEjc2MOEOD"
      },
      "source": [
        "cosine_sim=cosine_similarity(matrix,matrix)"
      ],
      "execution_count": null,
      "outputs": []
    },
    {
      "cell_type": "markdown",
      "metadata": {
        "id": "52eANhq_PGWd"
      },
      "source": [
        "\n",
        "#Making a new series which have two columns in it \n",
        "#Movie name and movie id"
      ]
    },
    {
      "cell_type": "code",
      "metadata": {
        "id": "1vwcdQB0PyZw"
      },
      "source": [
        ""
      ],
      "execution_count": null,
      "outputs": []
    },
    {
      "cell_type": "code",
      "metadata": {
        "id": "bijtG3hgOEG3"
      },
      "source": [
        "movies_dataset = movies_dataset.reset_index()\n",
        "titles = movies_dataset['movie_name']\n",
        "indices = pd.Series(movies_dataset.index, index=movies_dataset['movie_name'])"
      ],
      "execution_count": null,
      "outputs": []
    },
    {
      "cell_type": "code",
      "metadata": {
        "id": "1ILafD6qQrqu",
        "outputId": "f5d26667-59dd-42c4-c28f-5c37e11dd885",
        "colab": {
          "base_uri": "https://localhost:8080/"
        }
      },
      "source": [
        "cosine_sim"
      ],
      "execution_count": null,
      "outputs": [
        {
          "output_type": "execute_result",
          "data": {
            "text/plain": [
              "array([[1.        , 0.81357774, 0.15276924, ..., 0.        , 0.4210373 ,\n",
              "        0.26758648],\n",
              "       [0.81357774, 1.        , 0.        , ..., 0.        , 0.        ,\n",
              "        0.        ],\n",
              "       [0.15276924, 0.        , 1.        , ..., 0.        , 0.        ,\n",
              "        0.57091541],\n",
              "       ...,\n",
              "       [0.        , 0.        , 0.        , ..., 1.        , 0.        ,\n",
              "        0.        ],\n",
              "       [0.4210373 , 0.        , 0.        , ..., 0.        , 1.        ,\n",
              "        0.        ],\n",
              "       [0.26758648, 0.        , 0.57091541, ..., 0.        , 0.        ,\n",
              "        1.        ]])"
            ]
          },
          "metadata": {
            "tags": []
          },
          "execution_count": 31
        }
      ]
    },
    {
      "cell_type": "code",
      "metadata": {
        "id": "v7QX14JXP1uo"
      },
      "source": [
        "#Function to make recommendation to the user\n",
        "def recommendataion(movie):\n",
        "    result=[]\n",
        "    #Getting the id of the movie for which the user want recommendation\n",
        "    ind=indices[movie]\n",
        "    #Getting all the similar cosine score for that movie\n",
        "    sim_scores=list(enumerate(cosine_sim[ind]))\n",
        "    #Sorting the list obtained\n",
        "    sim_scores=sorted(sim_scores,key=lambda x:x[1],reverse=True)    \n",
        "    #Getting all the id of the movies that are related to the movie Entered by the user\n",
        "    movie_id=[i[0] for i in sim_scores]    \n",
        "    #print('The Movie You Should Watched Next Are --')\n",
        "    #print('ID ,   Name ,  Average Ratings , Year ')\n",
        "    #Varible to print only top 10 movies\n",
        "    count=0\n",
        "    for id in range(0,len(movie_id)):\n",
        "      #to ensure that the movie entered by the user is doesnot come in his/her recommendation\n",
        "        if(ind != movie_id[id]):\n",
        "            ratings=ratings_dataset[ratings_dataset['movieId']==movie_id[id]]['rating']\n",
        "            avg_ratings=round(np.mean(ratings),2)\n",
        "            #To print only thoese movies which have an average ratings that is more than 3.5\n",
        "            if(avg_ratings >3.5):\n",
        "                count+=1\n",
        "                print(f'{movie_id[id]} , {titles[movie_id[id]]} ,{avg_ratings}')\n",
        "                result.append([titles[movie_id[id]],str(avg_ratings)])\n",
        "            if(count >=10):\n",
        "                    break\n",
        "    \n",
        "    print('Wait!! recommendation in progress ')\n",
        "    return result"
      ],
      "execution_count": null,
      "outputs": []
    },
    {
      "cell_type": "markdown",
      "metadata": {
        "id": "EA5Gsg9jP1W5"
      },
      "source": [
        ""
      ]
    },
    {
      "cell_type": "code",
      "metadata": {
        "id": "IlOkLoKMRJwm",
        "outputId": "494b28e8-81cf-41c8-a723-d6251c11b615",
        "colab": {
          "base_uri": "https://localhost:8080/"
        }
      },
      "source": [
        "recommendataion('Jumanji')"
      ],
      "execution_count": null,
      "outputs": [
        {
          "output_type": "stream",
          "text": [
            "53 , Indian in the Cupboard, The ,5.0\n",
            "1617 , NeverEnding Story, The ,4.06\n",
            "8641 , Seventh Son ,3.77\n",
            "8800 , Pan ,4.5\n",
            "1357 , Borrowers, The ,4.0\n",
            "6163 , Shaggy Dog, The ,4.5\n",
            "8638 , Night at the Museum: Secret of the Tomb ,3.7\n",
            "4809 , Peter Pan ,4.17\n",
            "5912 , Adventures of Sharkboy and Lavagirl 3-D, The ,4.5\n",
            "2572 , Teenage Mutant Ninja Turtles III ,3.53\n",
            "Wait!! recommendation in progress \n"
          ],
          "name": "stdout"
        },
        {
          "output_type": "execute_result",
          "data": {
            "text/plain": [
              "[['Indian in the Cupboard, The', '5.0'],\n",
              " ['NeverEnding Story, The', '4.06'],\n",
              " ['Seventh Son', '3.77'],\n",
              " ['Pan', '4.5'],\n",
              " ['Borrowers, The', '4.0'],\n",
              " ['Shaggy Dog, The', '4.5'],\n",
              " ['Night at the Museum: Secret of the Tomb', '3.7'],\n",
              " ['Peter Pan', '4.17'],\n",
              " ['Adventures of Sharkboy and Lavagirl 3-D, The', '4.5'],\n",
              " ['Teenage Mutant Ninja Turtles III', '3.53']]"
            ]
          },
          "metadata": {
            "tags": []
          },
          "execution_count": 38
        }
      ]
    },
    {
      "cell_type": "code",
      "metadata": {
        "id": "8RK7z59RS7iv"
      },
      "source": [
        ""
      ],
      "execution_count": null,
      "outputs": []
    },
    {
      "cell_type": "markdown",
      "metadata": {
        "id": "Na15N5STS704"
      },
      "source": [
        "#...... To be continued ; See you 👍😊✌🏽on Day 5 "
      ]
    }
  ]
}