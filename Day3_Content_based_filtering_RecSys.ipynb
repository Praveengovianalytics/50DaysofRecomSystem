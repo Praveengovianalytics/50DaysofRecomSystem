{
  "nbformat": 4,
  "nbformat_minor": 0,
  "metadata": {
    "colab": {
      "name": "Day3-Content_based_filtering_RecSys.ipynb",
      "provenance": [],
      "authorship_tag": "ABX9TyP6tMr0Etu295pnc7TKDpx5",
      "include_colab_link": true
    },
    "kernelspec": {
      "name": "python3",
      "display_name": "Python 3"
    }
  },
  "cells": [
    {
      "cell_type": "markdown",
      "metadata": {
        "id": "view-in-github",
        "colab_type": "text"
      },
      "source": [
        "<a href=\"https://colab.research.google.com/github/Praveengovianalytics/50DaysofRecomSystem/blob/main/Day3_Content_based_filtering_RecSys.ipynb\" target=\"_parent\"><img src=\"https://colab.research.google.com/assets/colab-badge.svg\" alt=\"Open In Colab\"/></a>"
      ]
    },
    {
      "cell_type": "markdown",
      "metadata": {
        "id": "Ol4ye36xuHbE"
      },
      "source": [
        "<a id='RS'></a>\n",
        "# What Is A Recommender System?\n",
        "\n",
        "Recommender System is the name given to any software designed to recommend you objects (to purchase, to click on or  to watch) which are attractive to you with a high probability. Development of such systems became a hot topic for software developers and machine learning engineers in the last years. A well-performing recommender system can have significant boost in the profit many online platforms make.\n",
        "\n",
        "Nowadays, many of us interact with recommender systems on a daily basis. If you have an account in Amazon or Netflix or many similar online services, you may have received suggestions that often fit your interest. This can vary from a movie suggested by Netflix or very various products suggested by Amazon. The targeted advertisements on Facebook or the targeted pop-up advertisements in your browser are also other examples of applications of recommender systems. Almost no two person recieves the exact same advertisements or suggestions on an online platform.  All these personalized suggestions and advertistments use recommender systems to find the best match for your interests according to your former ratings, purchase or clicks.\n",
        "\n",
        "Although some of the suggestions that we receive from the existing automized recommender systems are very promising and suprisingly meet our interests, the opposite can also happen, as these systems are not perfect yet and their developments seems to have a long way ahead to improve. In this blog post I give you a brief overview about a subset of existing algorithms. I try to explain the *Matrix Factorization Collaborative Filtering algorithm* which is popular method used in many recommender systems,  step by step. I will show you how to programm this algorithm in Python and apply it on a toy problem to build a movie recommender system. Building such simple systems on your own will help us to develop some insights about how the recommender systems interact with our data, as well as letting us know about the issues and weak points of such systems.\n",
        "\n",
        "\n",
        "Some of different approaches that are often used for recommender systems can be listed as following.\n",
        "\n",
        "* Content-Based Recommender System\n",
        "\n",
        "One of the most straight-forward approaches to find a suitable recommendation for users of a platform is the *Content-Based Recommender System* approach. This method determines a rating value $R_{ij}$ for a specific user $u_i$ giving to a sepcific object $o_j$ by using a feature vector $\\vec{x}_i$ for the $i$-th user and a feature vector for the $j$-th object $\\vec{\\theta}_j$. We try to explain the idea of this approach in the  next section with a very small example. The biggest problem with such algorithms is that we require to know the important features which have impact on the decisions each user make. It is really difficult to find such set of features. \n",
        "\n",
        "Even if we can define a reasonably good set of important features, the next big challenge is to rate this features for every single item and user. Such information is often not available or not practical to extract fully. Although many platforms have access to some information about the users might be used as features like age, gender etc, often these information are not enough to build good enough feature vectors.\n",
        "\n"
      ]
    },
    {
      "cell_type": "code",
      "metadata": {
        "id": "S-MqqfktujGU"
      },
      "source": [
        "import pandas as pd"
      ],
      "execution_count": 7,
      "outputs": []
    },
    {
      "cell_type": "markdown",
      "metadata": {
        "id": "Vz9CWL0sujyn"
      },
      "source": [
        "<a id='CBRS'></a>\n",
        "# Content-Based Recommender System\n",
        "\n",
        "Let's start with a simple example for the **content-based approach**. \n",
        "\n",
        "Let's imagine a tiny problem where we only have three users: Samineh, Markus and Peter. If we assume that the only important features for these users (of course in a very simplified scenario) are how much a movie is (1) romantic, (2) comedy  or (3) action, then we can assume a feature vector of size 3 for each user. $\\vec{x}_i=\\{interest~in~romance, interest~in~comdey, interest~in~action\\}$. \n",
        "\n",
        "We had the chance to ask all of our three users to let us know about their interests by filling their feature vectors. They could have rated each element with 0 if they don't have any interest, 1 if they really care about that feature and 0.5 if their feeling is somewhere in between. \n",
        "\n",
        "Samineh just likes romance movies and dislikes action and comedy a lot so her feature matrix look like: $\\vec{x_s}=[1,0,0]$. Markus likes comedy movies and is not into romance and action at all $\\vec{x_m}=[0,1,0]$. Peter dislikes romance but loves action and doesn't mind if there is a sense of humor in the movies so his feature vector looks like: $\\vec{x_p}=[0,0.5,1]$. Stacking all these feature vectors together makes the user feature matrix.  \n",
        "\n"
      ]
    },
    {
      "cell_type": "code",
      "metadata": {
        "id": "vJEyiDR6ul07",
        "outputId": "edb55ccd-09bc-4aa3-c702-759e03ba1ecb",
        "colab": {
          "base_uri": "https://localhost:8080/"
        }
      },
      "source": [
        "USER=pd.DataFrame([( [1, 0, 0]), ( [0, 1, 0]), ( [0, 0.5, 1])], \n",
        "                  columns=['Ramesh','Raju','Praveen'],\n",
        "                  index=['Romantic','Comedy','Action']);\n",
        "print(USER)"
      ],
      "execution_count": 8,
      "outputs": [
        {
          "output_type": "stream",
          "text": [
            "          Ramesh  Raju  Praveen\n",
            "Romantic       1   0.0        0\n",
            "Comedy         0   1.0        0\n",
            "Action         0   0.5        1\n"
          ],
          "name": "stdout"
        }
      ]
    },
    {
      "cell_type": "markdown",
      "metadata": {
        "id": "63vWHPCNvVX_"
      },
      "source": [
        "We have three movies in our system kadhalan, ROBO2 and 23rd_pulikesi and we want to figure out what is the best recommendation for each user. In order to do that we need to define a feature vector for each movie. We ask some expert to do that for us. kadhalan is a very romantic movie and not funny or action at all so its fair if we rate its feature vector as $\\vec{\\theta}_{kadhalan}=[1,0,0]$. ROBO2 is an action movie with very little essence of romance and comedy, so our movie expert filled the Terminator's feature vector as $\\vec{\\theta}_{ROBO2}=[0.2,0.1,1]$. The 23rd_pulikesi is a comedy movie $\\vec{\\theta}_{23rd_pulikesi}=[0.0,1,0.2]$. Stacking all of the movie features together will give a movie feature matrix."
      ]
    },
    {
      "cell_type": "code",
      "metadata": {
        "id": "x5fbT-pgvMgv",
        "outputId": "edb603d8-52b9-43d5-9768-e0323f5f09e5",
        "colab": {
          "base_uri": "https://localhost:8080/"
        }
      },
      "source": [
        "ITEM=pd.DataFrame([( [1, 0, 0]), ( [0.2, 0.1, 1]), ( [0, 1, 0.2])],\n",
        "                  columns=['kadhalan','ROBO2','23rd_pulikesi'],\n",
        "                  index=['Romantic','Comedy','Action']);\n",
        "print(ITEM)"
      ],
      "execution_count": 9,
      "outputs": [
        {
          "output_type": "stream",
          "text": [
            "          kadhalan  ROBO2  23rd_pulikesi\n",
            "Romantic       1.0    0.0            0.0\n",
            "Comedy         0.2    0.1            1.0\n",
            "Action         0.0    1.0            0.2\n"
          ],
          "name": "stdout"
        }
      ]
    },
    {
      "cell_type": "markdown",
      "metadata": {
        "id": "3dYLUgUkwY5w"
      },
      "source": [
        "The dot product of the $i$-th user feature vector $\\vec{x}_i$ and the $j$-th movie feature $\\vec{x}_j$ provides a sort of similarity measure. The larger the dot product $\\vec{x_i}\\cdot\\vec{\\theta_j}=R_{ij}$ is the likelier that the user $i$ is going to like the movie $j$. We can determine all the similarity measures for each user and item simply by multiplying the user feature matrix and the movie feature matrix, as follows:"
      ]
    },
    {
      "cell_type": "code",
      "metadata": {
        "id": "1_myNn-5vMux",
        "outputId": "bc215bcc-9a1f-4ee9-a455-c2186ac3d5f0",
        "colab": {
          "base_uri": "https://localhost:8080/",
          "height": 142
        }
      },
      "source": [
        "ITEM.T.dot(USER)"
      ],
      "execution_count": 10,
      "outputs": [
        {
          "output_type": "execute_result",
          "data": {
            "text/html": [
              "<div>\n",
              "<style scoped>\n",
              "    .dataframe tbody tr th:only-of-type {\n",
              "        vertical-align: middle;\n",
              "    }\n",
              "\n",
              "    .dataframe tbody tr th {\n",
              "        vertical-align: top;\n",
              "    }\n",
              "\n",
              "    .dataframe thead th {\n",
              "        text-align: right;\n",
              "    }\n",
              "</style>\n",
              "<table border=\"1\" class=\"dataframe\">\n",
              "  <thead>\n",
              "    <tr style=\"text-align: right;\">\n",
              "      <th></th>\n",
              "      <th>Ramesh</th>\n",
              "      <th>Raju</th>\n",
              "      <th>Praveen</th>\n",
              "    </tr>\n",
              "  </thead>\n",
              "  <tbody>\n",
              "    <tr>\n",
              "      <th>kadhalan</th>\n",
              "      <td>1.0</td>\n",
              "      <td>0.2</td>\n",
              "      <td>0.0</td>\n",
              "    </tr>\n",
              "    <tr>\n",
              "      <th>ROBO2</th>\n",
              "      <td>0.0</td>\n",
              "      <td>0.6</td>\n",
              "      <td>1.0</td>\n",
              "    </tr>\n",
              "    <tr>\n",
              "      <th>23rd_pulikesi</th>\n",
              "      <td>0.0</td>\n",
              "      <td>1.1</td>\n",
              "      <td>0.2</td>\n",
              "    </tr>\n",
              "  </tbody>\n",
              "</table>\n",
              "</div>"
            ],
            "text/plain": [
              "               Ramesh  Raju  Praveen\n",
              "kadhalan          1.0   0.2      0.0\n",
              "ROBO2             0.0   0.6      1.0\n",
              "23rd_pulikesi     0.0   1.1      0.2"
            ]
          },
          "metadata": {
            "tags": []
          },
          "execution_count": 10
        }
      ]
    },
    {
      "cell_type": "markdown",
      "metadata": {
        "id": "iM-ZKv-_wtGh"
      },
      "source": [
        "So according to this simple system we can recommend kadhalan to Ramesh. To Raju we might recommend 23rd_pulikesi first and as a second choice ROBO2. Th best recommendation for Praveen (me) is the Terminator. \n",
        "\n",
        "I think it is already pretty clear that the main problem with the content-based recommnder systems is the missing information about the feature vectors. First of all it is  very complicated to consider all the important features explicitly. Moreover, it is almost impossible to weight all the features for all users and all items. [Matrix Factorization](#MF) tries to learn these feature matrices by using the exisitng ratings of users.  "
      ]
    },
    {
      "cell_type": "code",
      "metadata": {
        "id": "62BMTYO1vMdy"
      },
      "source": [
        "\n"
      ],
      "execution_count": 10,
      "outputs": []
    }
  ]
}